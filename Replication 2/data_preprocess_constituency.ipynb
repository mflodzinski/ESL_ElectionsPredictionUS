{
 "cells": [
  {
   "cell_type": "code",
   "execution_count": 1,
   "metadata": {},
   "outputs": [],
   "source": [
    "import pandas as pd\n",
    "import numpy as np"
   ]
  },
  {
   "cell_type": "code",
   "execution_count": 23,
   "metadata": {},
   "outputs": [],
   "source": [
    "df_city_consituency = pd.read_csv('cities_constituency_data.csv')\n",
    "columns_city_consituency_to_drop = ['geo_type', 'index', 'state']\n",
    "df_city_consituency = df_city_consituency.drop(columns=columns_city_consituency_to_drop)"
   ]
  },
  {
   "cell_type": "code",
   "execution_count": 24,
   "metadata": {},
   "outputs": [
    {
     "data": {
      "text/html": [
       "<div>\n",
       "<style scoped>\n",
       "    .dataframe tbody tr th:only-of-type {\n",
       "        vertical-align: middle;\n",
       "    }\n",
       "\n",
       "    .dataframe tbody tr th {\n",
       "        vertical-align: top;\n",
       "    }\n",
       "\n",
       "    .dataframe thead th {\n",
       "        text-align: right;\n",
       "    }\n",
       "</style>\n",
       "<table border=\"1\" class=\"dataframe\">\n",
       "  <thead>\n",
       "    <tr style=\"text-align: right;\">\n",
       "      <th></th>\n",
       "      <th>fips</th>\n",
       "      <th>geo_name</th>\n",
       "      <th>population_2020</th>\n",
       "      <th>mass_ideology_2020</th>\n",
       "      <th>mass_ideology_2020_se</th>\n",
       "      <th>pres_pctD_20</th>\n",
       "      <th>pres_pctD_16</th>\n",
       "      <th>pres_pctD_08</th>\n",
       "      <th>percent_women</th>\n",
       "      <th>percent_white</th>\n",
       "      <th>percent_black</th>\n",
       "      <th>percent_hispanic</th>\n",
       "      <th>percent_asian_american</th>\n",
       "    </tr>\n",
       "  </thead>\n",
       "  <tbody>\n",
       "    <tr>\n",
       "      <th>0</th>\n",
       "      <td>103076</td>\n",
       "      <td>Auburn city</td>\n",
       "      <td>76143</td>\n",
       "      <td>-0.088350</td>\n",
       "      <td>0.077727</td>\n",
       "      <td>0.470241</td>\n",
       "      <td>0.456319</td>\n",
       "      <td>0.852831</td>\n",
       "      <td>0.501530</td>\n",
       "      <td>0.685890</td>\n",
       "      <td>0.183595</td>\n",
       "      <td>0.033378</td>\n",
       "      <td>0.091001</td>\n",
       "    </tr>\n",
       "    <tr>\n",
       "      <th>1</th>\n",
       "      <td>107000</td>\n",
       "      <td>Birmingham city</td>\n",
       "      <td>200733</td>\n",
       "      <td>-0.145305</td>\n",
       "      <td>0.043366</td>\n",
       "      <td>0.822814</td>\n",
       "      <td>0.825319</td>\n",
       "      <td>0.820044</td>\n",
       "      <td>0.528175</td>\n",
       "      <td>0.237912</td>\n",
       "      <td>0.698536</td>\n",
       "      <td>0.038620</td>\n",
       "      <td>0.012139</td>\n",
       "    </tr>\n",
       "    <tr>\n",
       "      <th>2</th>\n",
       "      <td>120104</td>\n",
       "      <td>Decatur city</td>\n",
       "      <td>57938</td>\n",
       "      <td>0.212484</td>\n",
       "      <td>0.073699</td>\n",
       "      <td>0.406781</td>\n",
       "      <td>0.360282</td>\n",
       "      <td>0.372059</td>\n",
       "      <td>0.521440</td>\n",
       "      <td>0.608282</td>\n",
       "      <td>0.225651</td>\n",
       "      <td>0.134605</td>\n",
       "      <td>0.004828</td>\n",
       "    </tr>\n",
       "    <tr>\n",
       "      <th>3</th>\n",
       "      <td>121184</td>\n",
       "      <td>Dothan city</td>\n",
       "      <td>71072</td>\n",
       "      <td>0.192381</td>\n",
       "      <td>0.064027</td>\n",
       "      <td>0.353084</td>\n",
       "      <td>0.317088</td>\n",
       "      <td>0.328330</td>\n",
       "      <td>0.525348</td>\n",
       "      <td>0.592394</td>\n",
       "      <td>0.335773</td>\n",
       "      <td>0.034112</td>\n",
       "      <td>0.015465</td>\n",
       "    </tr>\n",
       "    <tr>\n",
       "      <th>4</th>\n",
       "      <td>135896</td>\n",
       "      <td>Hoover city</td>\n",
       "      <td>92606</td>\n",
       "      <td>-0.004579</td>\n",
       "      <td>0.065531</td>\n",
       "      <td>0.423451</td>\n",
       "      <td>0.335830</td>\n",
       "      <td>0.284689</td>\n",
       "      <td>0.528054</td>\n",
       "      <td>0.679530</td>\n",
       "      <td>0.188494</td>\n",
       "      <td>0.061227</td>\n",
       "      <td>0.058855</td>\n",
       "    </tr>\n",
       "  </tbody>\n",
       "</table>\n",
       "</div>"
      ],
      "text/plain": [
       "     fips         geo_name  population_2020  mass_ideology_2020  \\\n",
       "0  103076      Auburn city            76143           -0.088350   \n",
       "1  107000  Birmingham city           200733           -0.145305   \n",
       "2  120104     Decatur city            57938            0.212484   \n",
       "3  121184      Dothan city            71072            0.192381   \n",
       "4  135896      Hoover city            92606           -0.004579   \n",
       "\n",
       "   mass_ideology_2020_se  pres_pctD_20  pres_pctD_16  pres_pctD_08  \\\n",
       "0               0.077727      0.470241      0.456319      0.852831   \n",
       "1               0.043366      0.822814      0.825319      0.820044   \n",
       "2               0.073699      0.406781      0.360282      0.372059   \n",
       "3               0.064027      0.353084      0.317088      0.328330   \n",
       "4               0.065531      0.423451      0.335830      0.284689   \n",
       "\n",
       "   percent_women  percent_white  percent_black  percent_hispanic  \\\n",
       "0       0.501530       0.685890       0.183595          0.033378   \n",
       "1       0.528175       0.237912       0.698536          0.038620   \n",
       "2       0.521440       0.608282       0.225651          0.134605   \n",
       "3       0.525348       0.592394       0.335773          0.034112   \n",
       "4       0.528054       0.679530       0.188494          0.061227   \n",
       "\n",
       "   percent_asian_american  \n",
       "0                0.091001  \n",
       "1                0.012139  \n",
       "2                0.004828  \n",
       "3                0.015465  \n",
       "4                0.058855  "
      ]
     },
     "execution_count": 24,
     "metadata": {},
     "output_type": "execute_result"
    }
   ],
   "source": [
    "df_city_consituency.head()"
   ]
  },
  {
   "cell_type": "code",
   "execution_count": null,
   "metadata": {},
   "outputs": [],
   "source": [
    "1) remove '1600000US' from the first column 'Geography' in file 'city_race.csv'\n",
    "2) "
   ]
  },
  {
   "cell_type": "code",
   "execution_count": 18,
   "metadata": {},
   "outputs": [],
   "source": [
    "df_city_race = pd.read_csv('city_race.csv')\n",
    "nan_counts = df_city_race.isna().sum()"
   ]
  },
  {
   "cell_type": "code",
   "execution_count": 25,
   "metadata": {},
   "outputs": [],
   "source": [
    "df_city_race['Geography'] = df_city_race['Geography'].str.replace('1600000US', '')\n"
   ]
  },
  {
   "cell_type": "code",
   "execution_count": 26,
   "metadata": {},
   "outputs": [],
   "source": [
    "# Drop columns whose names start with \"Margin of Error\"\n",
    "columns_to_drop = [col for col in df_city_race.columns if col.startswith(\"Margin of Error\")]\n",
    "df_city_race = df_city_race.drop(columns=columns_to_drop)\n"
   ]
  },
  {
   "cell_type": "code",
   "execution_count": null,
   "metadata": {},
   "outputs": [],
   "source": []
  }
 ],
 "metadata": {
  "kernelspec": {
   "display_name": "ml_env",
   "language": "python",
   "name": "python3"
  },
  "language_info": {
   "codemirror_mode": {
    "name": "ipython",
    "version": 3
   },
   "file_extension": ".py",
   "mimetype": "text/x-python",
   "name": "python",
   "nbconvert_exporter": "python",
   "pygments_lexer": "ipython3",
   "version": "3.10.13"
  }
 },
 "nbformat": 4,
 "nbformat_minor": 2
}
